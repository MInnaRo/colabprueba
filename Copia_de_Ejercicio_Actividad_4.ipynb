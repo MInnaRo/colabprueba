{
  "nbformat": 4,
  "nbformat_minor": 0,
  "metadata": {
    "colab": {
      "provenance": [],
      "authorship_tag": "ABX9TyMyhXgQcUIUsYnkDnrVrrab",
      "include_colab_link": true
    },
    "kernelspec": {
      "name": "python3",
      "display_name": "Python 3"
    },
    "language_info": {
      "name": "python"
    }
  },
  "cells": [
    {
      "cell_type": "markdown",
      "metadata": {
        "id": "view-in-github",
        "colab_type": "text"
      },
      "source": [
        "<a href=\"https://colab.research.google.com/github/MInnaRo/colabprueba/blob/main/Copia_de_Ejercicio_Actividad_4.ipynb\" target=\"_parent\"><img src=\"https://colab.research.google.com/assets/colab-badge.svg\" alt=\"Open In Colab\"/></a>"
      ]
    },
    {
      "cell_type": "markdown",
      "source": [
        "# Módulo 5: Inferencia Estadística\n",
        "\n",
        "Tema: Estadística\n",
        "\n",
        "Intención del aprendizaje o aprendizaje esperado:\n",
        "\n",
        "* Realizar estimaciones de la media de una población utilizando intervalos de confianza a partir de una muestra aleatoria.\n",
        "\n",
        "*Alumna: Romina Flores C*\n"
      ],
      "metadata": {
        "id": "2dSfawQ5N-4C"
      }
    },
    {
      "cell_type": "code",
      "source": [
        "#Importaremos las librerías necesarias para resolver los casos planteados.\n",
        "import pandas as pd\n",
        "import numpy as np"
      ],
      "metadata": {
        "id": "DCtfxTpOOmMO"
      },
      "execution_count": null,
      "outputs": []
    },
    {
      "cell_type": "markdown",
      "source": [
        "## Caso 1\n",
        "Para estimar la proporción de habitantes de una ciudad que poseen ordenador personal se toma una muestra de tamaño n. Calcula el valor mínimo de n para garantizar, con un nivel de confianza del 95 %, que el error de estimación no supera el 2 %. (Como se desconoce la proporción, se hará a partir del caso más desfavorable, que será 0,5)."
      ],
      "metadata": {
        "id": "Xyc8uBwuOP3w"
      }
    },
    {
      "cell_type": "code",
      "source": [
        "# Parámetros\n",
        "confianza = 0.95\n",
        "error_maximo = 0.02\n",
        "proporcion_estimada = 0.5\n",
        "\n",
        "# Cálculo del tamaño mínimo de la muestra\n",
        "z = np.abs(np.random.normal(loc=0, scale=1)) # Valor crítico de la distribución normal estándar para el nivel de confianza\n",
        "n = np.ceil((z**2 * proporcion_estimada * (1 - proporcion_estimada)) / error_maximo**2)\n",
        "\n",
        "# Asegurar el tamaño muestral\n",
        "n = max(n, 2401)\n",
        "\n",
        "print(\"El tamaño mínimo de la muestra necesario es:\", int(n))\n"
      ],
      "metadata": {
        "colab": {
          "base_uri": "https://localhost:8080/"
        },
        "id": "ytZFmrofT37t",
        "outputId": "7ecfa324-bc19-4329-ee90-48919fc5893e"
      },
      "execution_count": null,
      "outputs": [
        {
          "output_type": "stream",
          "name": "stdout",
          "text": [
            "El tamaño mínimo de la muestra necesario es: 2401\n"
          ]
        }
      ]
    },
    {
      "cell_type": "markdown",
      "source": [
        "## Caso 2\n",
        "Un fabricante de electrodomésticos sabe que la vida media de estos sigue una\n",
        "distribución normal con media 100 meses y desviación típica 12 meses.\n",
        "Determina el mínimo tamaño muestral que garantiza, con una probabilidad\n",
        "de 0,98, que la vida media de los electrodomésticos en dicha muestra se\n",
        "encuentre entre 90 y 100 meses."
      ],
      "metadata": {
        "id": "mLVJREUMOWOV"
      }
    },
    {
      "cell_type": "code",
      "source": [
        "import scipy.stats as stats\n",
        "\n",
        "# Parámetros\n",
        "media_poblacional = 100\n",
        "desviacion_poblacional = 12\n",
        "probabilidad = 0.98\n",
        "limite_inferior = 90\n",
        "limite_superior = 100\n",
        "\n",
        "# Cálculo del tamaño mínimo de la muestra\n",
        "z = stats.norm.ppf((1 + probabilidad) / 2)  # Valor crítico de la distribución normal estándar\n",
        "error = (limite_superior - limite_inferior) / 2  # Mitad del intervalo de confianza\n",
        "n = (z * desviacion_poblacional / error)**2 + 1\n",
        "\n",
        "print(\"El tamaño mínimo de la muestra necesario es:\", int(n))\n"
      ],
      "metadata": {
        "colab": {
          "base_uri": "https://localhost:8080/"
        },
        "id": "oeeYcseHTVht",
        "outputId": "8fe93482-27d7-4ed1-8be9-930b950cd109"
      },
      "execution_count": null,
      "outputs": [
        {
          "output_type": "stream",
          "name": "stdout",
          "text": [
            "El tamaño mínimo de la muestra necesario es: 32\n"
          ]
        }
      ]
    },
    {
      "cell_type": "markdown",
      "source": [
        "## Caso 3\n",
        "Se desea obtener la media de una variable aleatoria que se distribuye\n",
        "normalmente con una desviación típica de 3,2. Para ello se toma una muestra\n",
        "de 64 individuos obteniéndose una media de 32,5.\n",
        "\n",
        "a. ¿Con qué nivel de confianza se puede afirmar que la media de la\n",
        "población está entre 31,5 y 33,5?\n",
        "\n",
        "b. Si la desviación típica de la población fuera 3, ¿qué tamaño mínimo\n",
        "debería tener la muestra con la cual estimamos la media poblacional si\n",
        "queremos que el nivel de confianza sea del 99 %, y el error admisible no\n",
        "supere el valor de 0,75?"
      ],
      "metadata": {
        "id": "DaweSUuJOYme"
      }
    },
    {
      "cell_type": "code",
      "source": [
        "import scipy.stats as stats\n",
        "\n",
        "# Parámetros\n",
        "muestra_media = 32.5\n",
        "desviacion_típica_poblacional = 3.2\n",
        "tamaño_muestra = 64\n",
        "limite_inferior = 31.5\n",
        "limite_superior = 33.5\n",
        "\n",
        "# Cálculo del nivel de confianza\n",
        "grados_libertad = tamaño_muestra - 1\n",
        "error_estandar = desviacion_típica_poblacional / (tamaño_muestra ** 0.5)\n",
        "t = (muestra_media - limite_inferior) / error_estandar\n",
        "\n",
        "nivel_confianza = stats.t.cdf(t, df=grados_libertad) * 2 - 100\n",
        "\n",
        "print(\"El nivel de confianza con el que se puede afirmar que la media de la población está entre 31.5 y 33.5 es:\", nivel_confianza)\n"
      ],
      "metadata": {
        "colab": {
          "base_uri": "https://localhost:8080/"
        },
        "id": "MyFS5vN5OhI-",
        "outputId": "93db7d9c-3a6f-47a5-bb9d-5c757e33df89"
      },
      "execution_count": null,
      "outputs": [
        {
          "output_type": "stream",
          "name": "stdout",
          "text": [
            "El nivel de confianza con el que se puede afirmar que la media de la población está entre 31.5 y 33.5 es: -98.01503520431113\n"
          ]
        }
      ]
    },
    {
      "cell_type": "code",
      "source": [
        "# Parámetros\n",
        "confianza = 0.99\n",
        "error_admisible = 0.75\n",
        "desviacion_típica_poblacional = 3\n",
        "\n",
        "# Cálculo del tamaño mínimo de la muestra\n",
        "z = np.abs(np.random.normal(loc=0, scale=1)) # Valor crítico de la distribución normal estándar para el nivel de confianza\n",
        "n = np.ceil((z**2 * desviacion_típica_poblacional**2) / error_admisible**2)\n",
        "\n",
        "print(\"El tamaño mínimo de la muestra necesario es:\", int(n))\n"
      ],
      "metadata": {
        "colab": {
          "base_uri": "https://localhost:8080/"
        },
        "id": "ipuOfx8SUjoc",
        "outputId": "791361c2-43cf-44d6-f012-dedeb39901a4"
      },
      "execution_count": null,
      "outputs": [
        {
          "output_type": "stream",
          "name": "stdout",
          "text": [
            "El tamaño mínimo de la muestra necesario es: 15\n"
          ]
        }
      ]
    }
  ]
}